{
 "cells": [
  {
   "cell_type": "code",
   "execution_count": 1,
   "id": "initial_id",
   "metadata": {
    "collapsed": true,
    "ExecuteTime": {
     "end_time": "2024-09-04T15:37:01.894096Z",
     "start_time": "2024-09-04T15:36:58.254092Z"
    }
   },
   "outputs": [],
   "source": [
    "import numpy as np\n",
    "import matplotlib.pyplot as plt\n",
    "import pandas as pd\n",
    "import scipy\n",
    "\n",
    "v2022_connectivity=\"A:/20.5xfad.01/research/connectomeN59130NLSAMdsi_studio/nii4D_N59130NLSAM.src.gqi.0.9.fib.gz.2000K.trk.gz.N59130NLSAM_RCCF_labels.count.pass.connectivity.mat\"\n",
    "v2022_connectogram=\"A:/20.5xfad.01/research/connectomeN59130NLSAMdsi_studio/nii4D_N59130NLSAM.src.gqi.0.9.fib.gz.2000K.trk.gz.N59130NLSAM_RCCF_labels.count.pass.connectogram.txt\"\n",
    "v2024_connectivity=\"B:/ProjectSpace/vc144/20.5xfad.01/N59130NLSAM/nii4D_N59130NLSAM.src.gz.gqi.0.9.tt.gz.N59130NLSAM_RCCF_labels.count.pass.connectivity.mat\"\n",
    "v2024_connectogram=\"B:/ProjectSpace/vc144/20.5xfad.01/N59130NLSAM/nii4D_N59130NLSAM.src.gz.gqi.0.9.tt.gz.N59130NLSAM_RCCF_labels.count.pass.connectogram.txt\"\n",
    "\n"
   ]
  },
  {
   "cell_type": "code",
   "outputs": [
    {
     "data": {
      "text/plain": "{'connectivity': array([[0.0000e+00, 2.8548e+04, 3.0975e+04, ..., 6.0000e+01, 7.5000e+01,\n         3.8990e+03],\n        [2.8548e+04, 0.0000e+00, 2.7000e+01, ..., 1.2030e+03, 1.5400e+03,\n         3.7860e+03],\n        [3.0975e+04, 2.7000e+01, 0.0000e+00, ..., 0.0000e+00, 1.0000e+00,\n         7.4000e+01],\n        ...,\n        [6.0000e+01, 1.2030e+03, 0.0000e+00, ..., 0.0000e+00, 1.1200e+02,\n         3.9500e+02],\n        [7.5000e+01, 1.5400e+03, 1.0000e+00, ..., 1.1200e+02, 0.0000e+00,\n         9.9000e+01],\n        [3.8990e+03, 3.7860e+03, 7.4000e+01, ..., 3.9500e+02, 9.9000e+01,\n         0.0000e+00]], dtype=float32),\n 'name': array([[78, 53, 57, ..., 48, 10,  0]], dtype=uint8),\n 'atlas': array([[114, 111, 105,   0]], dtype=uint8)}"
     },
     "execution_count": 5,
     "metadata": {},
     "output_type": "execute_result"
    }
   ],
   "source": [
    "# attempt using scipy to load the mat file\n",
    "v2022={}\n",
    "v2024={}\n",
    "scipy.io.loadmat(v2022_connectivity, v2022)\n",
    "scipy.io.loadmat(v2024_connectivity, v2024)"
   ],
   "metadata": {
    "collapsed": false,
    "ExecuteTime": {
     "end_time": "2024-09-04T15:39:14.815294Z",
     "start_time": "2024-09-04T15:39:14.707294Z"
    }
   },
   "id": "2b889222e542a00a",
   "execution_count": 5
  },
  {
   "cell_type": "code",
   "outputs": [
    {
     "ename": "NameError",
     "evalue": "name 'pd' is not defined",
     "output_type": "error",
     "traceback": [
      "\u001B[1;31m---------------------------------------------------------------------------\u001B[0m",
      "\u001B[1;31mNameError\u001B[0m                                 Traceback (most recent call last)",
      "Cell \u001B[1;32mIn[1], line 3\u001B[0m\n\u001B[0;32m      1\u001B[0m \u001B[38;5;66;03m# attempt using pandas read_csv\u001B[39;00m\n\u001B[0;32m      2\u001B[0m \u001B[38;5;66;03m# this does work. iloc is the correct function to use\u001B[39;00m\n\u001B[1;32m----> 3\u001B[0m v2022_pd \u001B[38;5;241m=\u001B[39m \u001B[43mpd\u001B[49m\u001B[38;5;241m.\u001B[39mread_csv(\u001B[38;5;124m\"\u001B[39m\u001B[38;5;124mA:/20.5xfad.01/research/connectomeN59130NLSAMdsi_studio/nii4D_N59130NLSAM.src.gqi.0.9.fib.gz.2000K.trk.gz.N59130NLSAM_RCCF_labels.count.pass.connectogram.txt\u001B[39m\u001B[38;5;124m\"\u001B[39m, delimiter\u001B[38;5;241m=\u001B[39m\u001B[38;5;124m\"\u001B[39m\u001B[38;5;130;01m\\t\u001B[39;00m\u001B[38;5;124m\"\u001B[39m)\n\u001B[0;32m      4\u001B[0m v2024_pd \u001B[38;5;241m=\u001B[39m pd\u001B[38;5;241m.\u001B[39mread_csv(\u001B[38;5;124m\"\u001B[39m\u001B[38;5;124mB:/ProjectSpace/vc144/20.5xfad.01/N59130NLSAM/nii4D_N59130NLSAM.src.gz.gqi.0.9.tt.gz.N59130NLSAM_RCCF_labels.count.pass.connectogram.txt\u001B[39m\u001B[38;5;124m\"\u001B[39m, delimiter\u001B[38;5;241m=\u001B[39m\u001B[38;5;124m\"\u001B[39m\u001B[38;5;130;01m\\t\u001B[39;00m\u001B[38;5;124m\"\u001B[39m)\n\u001B[0;32m      7\u001B[0m \u001B[38;5;66;03m# plot from pandas dataframe\u001B[39;00m\n",
      "\u001B[1;31mNameError\u001B[0m: name 'pd' is not defined"
     ]
    }
   ],
   "source": [
    "# attempt using pandas read_csv\n",
    "# this does work. iloc is the correct function to use\n",
    "v2022_pd = pd.read_csv(v2022_connectogram, delimiter=\"\\t\")\n",
    "v2024_pd = pd.read_csv(v2024_connectogram, delimiter=\"\\t\")\n",
    "\n",
    "# plot from pandas dataframe\n",
    "v2022_pd_data = v2022_pd.iloc[2:,2:]\n",
    "v2024_pd_data = v2024_pd.iloc[2:,2:]\n"
   ],
   "metadata": {
    "collapsed": false,
    "ExecuteTime": {
     "end_time": "2024-08-28T14:53:00.410816Z",
     "start_time": "2024-08-28T14:52:59.827818Z"
    }
   },
   "id": "c9b9a52cc5ddfd8e",
   "execution_count": 1
  },
  {
   "cell_type": "code",
   "outputs": [
    {
     "name": "stderr",
     "output_type": "stream",
     "text": [
      "C:\\Users\\hmm56\\AppData\\Local\\Temp\\22\\ipykernel_17452\\2438337886.py:4: RuntimeWarning: divide by zero encountered in log\n",
      "  v2022[\"connectivity\"] = np.log(v2022[\"connectivity\"])\n",
      "C:\\Users\\hmm56\\AppData\\Local\\Temp\\22\\ipykernel_17452\\2438337886.py:5: RuntimeWarning: divide by zero encountered in log\n",
      "  v2024[\"connectivity\"] = np.log(v2024[\"connectivity\"])\n"
     ]
    },
    {
     "data": {
      "text/plain": "<Figure size 640x480 with 2 Axes>",
      "image/png": "[encoded data removed]"
     },
     "metadata": {},
     "output_type": "display_data"
    }
   ],
   "source": [
    "# all plotting I currently do is from the scipy connectivity.mat loaded file\n",
    "#plt.title(\"full connectome comparison N59130\") # this makes plotting less nice, adds extra outside border\n",
    "\n",
    "v2022[\"connectivity\"] = np.log(v2022[\"connectivity\"])\n",
    "v2024[\"connectivity\"] = np.log(v2024[\"connectivity\"])\n",
    "\n",
    "\n",
    "plt.subplot(1,3,1)\n",
    "plt.imshow(v2022[\"connectivity\"])\n",
    "plt.title(\"pipeline N59130\")\n",
    "#plt.colorbar()\n",
    "\n",
    "plt.subplot(1,3,2)\n",
    "plt.imshow(v2024[\"connectivity\"])\n",
    "plt.title(\"newest N59130\");\n",
    "#plt.colorbar()\n",
    "\n",
    "#plt.subplot(1,3,3)\n",
    "#plt.imshow((v2024[\"connectivity\"]-v2022[\"connectivity\"])/(v2022[\"connectivity\"]))\n",
    "#plt.title(\"new minus old\")\n",
    "#plt.colorbar()\n",
    "\n"
   ],
   "metadata": {
    "collapsed": false,
    "ExecuteTime": {
     "end_time": "2024-09-04T15:39:21.764307Z",
     "start_time": "2024-09-04T15:39:21.401308Z"
    }
   },
   "id": "61341af60bb19e97",
   "execution_count": 6
  },
  {
   "cell_type": "code",
   "outputs": [],
   "source": [
    "row = 156\n",
    "\n"
   ],
   "metadata": {
    "collapsed": false,
    "ExecuteTime": {
     "end_time": "2024-09-04T15:39:24.647318Z",
     "start_time": "2024-09-04T15:39:24.642316Z"
    }
   },
   "id": "19ab01c9ec7d1528",
   "execution_count": 7
  },
  {
   "cell_type": "code",
   "outputs": [],
   "source": [],
   "metadata": {
    "collapsed": false
   },
   "id": "2bd4170601aa1693"
  },
  {
   "cell_type": "code",
   "outputs": [],
   "source": [],
   "metadata": {
    "collapsed": false
   },
   "id": "654ddd02d99a79c1"
  }
 ],
 "metadata": {
  "kernelspec": {
   "display_name": "Python 3",
   "language": "python",
   "name": "python3"
  },
  "language_info": {
   "codemirror_mode": {
    "name": "ipython",
    "version": 2
   },
   "file_extension": ".py",
   "mimetype": "text/x-python",
   "name": "python",
   "nbconvert_exporter": "python",
   "pygments_lexer": "ipython2",
   "version": "2.7.6"
  }
 },
 "nbformat": 4,
 "nbformat_minor": 5
}
