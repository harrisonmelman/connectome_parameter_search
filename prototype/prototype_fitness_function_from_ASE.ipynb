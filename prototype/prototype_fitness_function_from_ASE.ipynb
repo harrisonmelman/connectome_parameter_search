{
 "cells": [
  {
   "cell_type": "code",
   "execution_count": 1,
   "id": "initial_id",
   "metadata": {
    "collapsed": true,
    "ExecuteTime": {
     "end_time": "2024-10-23T18:50:02.239622Z",
     "start_time": "2024-10-23T18:50:01.977127Z"
    }
   },
   "outputs": [],
   "source": [
    "import scipy\n"
   ]
  },
  {
   "cell_type": "code",
   "outputs": [],
   "source": [
    "mat_file=\"B:/ProjectSpace/vc144/20.5xfad.01/genetic_search/Omni_Manova-1/BrainScaled_Omni_Manova/gene_condition_sex_max_length_fa_threshold_turning_angle_step_size_min_length/Global_Semipar_Image_0000.mat\"\n",
    "ASE = scipy.io.loadmat(mat_file)"
   ],
   "metadata": {
    "collapsed": false,
    "ExecuteTime": {
     "end_time": "2024-10-23T18:50:58.285248Z",
     "start_time": "2024-10-23T18:50:55.232203Z"
    }
   },
   "id": "9fa0e332a487f3c0",
   "execution_count": 2
  },
  {
   "cell_type": "code",
   "outputs": [
    {
     "data": {
      "text/plain": "dict_keys(['__header__', '__version__', '__globals__', 'Dist', 'percent_variablity_explained_byeigen', 'full_group_name', 'group_names', 'group_name_idx', 'specimen_order'])"
     },
     "execution_count": 7,
     "metadata": {},
     "output_type": "execute_result"
    }
   ],
   "source": [
    "ASE.keys()"
   ],
   "metadata": {
    "collapsed": false,
    "ExecuteTime": {
     "end_time": "2024-10-23T18:51:48.713427Z",
     "start_time": "2024-10-23T18:51:48.705925Z"
    }
   },
   "id": "16b173f81a3d8677",
   "execution_count": 7
  },
  {
   "cell_type": "code",
   "outputs": [],
   "source": [
    "dist = ASE[\"Dist\"]\n",
    "pct_var = ASE[\"percent_variablity_explained_byeigen\"]\n",
    "full_group_name = ASE[\"full_group_name\"]\n",
    "group_names = ASE[\"group_names\"]\n",
    "group_name_idx = ASE[\"group_name_idx\"]\n",
    "specimen_order = ASE[\"specimen_order\"]\n"
   ],
   "metadata": {
    "collapsed": false,
    "ExecuteTime": {
     "end_time": "2024-10-23T18:52:59.864284Z",
     "start_time": "2024-10-23T18:52:59.858283Z"
    }
   },
   "id": "a6c8de96724e9d79",
   "execution_count": 10
  },
  {
   "cell_type": "code",
   "outputs": [
    {
     "data": {
      "text/plain": "(184, 1)"
     },
     "execution_count": 15,
     "metadata": {},
     "output_type": "execute_result"
    }
   ],
   "source": [
    "group_names.shape"
   ],
   "metadata": {
    "collapsed": false,
    "ExecuteTime": {
     "end_time": "2024-10-23T18:54:08.202145Z",
     "start_time": "2024-10-23T18:54:08.194649Z"
    }
   },
   "id": "59b4923a35170987",
   "execution_count": 15
  },
  {
   "cell_type": "code",
   "outputs": [
    {
     "name": "stdout",
     "output_type": "stream",
     "text": [
      "\n",
      "DONE with experiment num: 0   params: \n",
      "idx_this_experiment: 0\n",
      "found new experiment with params: 5.0 45.0 200.0 1.000000e-02 1.0\n",
      "\n",
      "DONE with experiment num: 1   params: 5.0 45.0 200.0 1.000000e-02 1.0\n",
      "idx_this_experiment: 16\n",
      "found new experiment with params: 5.0 25.0 200.0 1.000000e-02 0.233333333333333\n",
      "\n",
      "DONE with experiment num: 2   params: 5.0 25.0 200.0 1.000000e-02 0.233333333333333\n",
      "idx_this_experiment: 16\n",
      "found new experiment with params: 1.0 45.0 200.0 5.000000e-02 0.544444444444445\n",
      "\n",
      "DONE with experiment num: 3   params: 1.0 45.0 200.0 5.000000e-02 0.544444444444445\n",
      "idx_this_experiment: 16\n",
      "found new experiment with params: 3.775 35.0 200.0 1.000000e-02 1.0\n",
      "\n",
      "DONE with experiment num: 4   params: 3.775 35.0 200.0 1.000000e-02 1.0\n",
      "idx_this_experiment: 16\n",
      "found new experiment with params: 5.0 35.0 200.0 5.000000e-02 10.0\n",
      "\n",
      "DONE with experiment num: 5   params: 5.0 35.0 200.0 5.000000e-02 10.0\n",
      "idx_this_experiment: 16\n",
      "found new experiment with params: 0.5 25.0 200.0 1.000000e-02 0.544444444444445\n",
      "\n",
      "DONE with experiment num: 6   params: 0.5 25.0 200.0 1.000000e-02 0.544444444444445\n",
      "idx_this_experiment: 16\n",
      "found new experiment with params: 3.775 45.0 200.0 1.000000e-02 0.155555555555556\n",
      "\n",
      "DONE with experiment num: 7   params: 3.775 45.0 200.0 1.000000e-02 0.155555555555556\n",
      "idx_this_experiment: 16\n",
      "found new experiment with params: 3.775 35.0 200.0 1.000000e-02 20.0\n",
      "\n",
      "DONE with experiment num: 8   params: 3.775 35.0 200.0 1.000000e-02 20.0\n",
      "idx_this_experiment: 16\n",
      "found new experiment with params: 1.0 35.0 200.0 3.000000e-02 20.0\n",
      "\n",
      "DONE with experiment num: 9   params: 1.0 35.0 200.0 3.000000e-02 20.0\n",
      "idx_this_experiment: 16\n",
      "found new experiment with params: 1.325 45.0 157.777777777778 1.000000e-02 20.0\n",
      "\n",
      "DONE with experiment num: 10   params: 1.325 45.0 157.777777777778 1.000000e-02 20.0\n",
      "idx_this_experiment: 16\n",
      "found new experiment with params: 5.0 15.0 200.0 3.000000e-02 30.0\n",
      "\n",
      "DONE with experiment num: 11   params: 5.0 15.0 200.0 3.000000e-02 30.0\n",
      "idx_this_experiment: 16\n",
      "found new experiment with params: 0.5 45.0 136.666666666667 5.000000e-02 30.0\n",
      "\n",
      "DONE with experiment num: 12   params: 0.5 45.0 136.666666666667 5.000000e-02 30.0\n",
      "idx_this_experiment: 16\n",
      "found new experiment with params: 0.5 15.0 136.666666666667 1.000000e-02 30.0\n",
      "\n",
      "DONE with experiment num: 13   params: 0.5 15.0 136.666666666667 1.000000e-02 30.0\n",
      "idx_this_experiment: 16\n",
      "found new experiment with params: 1.325 25.0 200.0 1.000000e-02 0.311111111111111\n",
      "\n",
      "DONE with experiment num: 14   params: 1.325 25.0 200.0 1.000000e-02 0.311111111111111\n",
      "idx_this_experiment: 16\n",
      "found new experiment with params: 1.325 15.0 200.0 1.000000e-02 10.0\n",
      "\n",
      "DONE with experiment num: 15   params: 1.325 15.0 200.0 1.000000e-02 10.0\n",
      "idx_this_experiment: 16\n",
      "found new experiment with params: 0.1 35.0 200.0 1.000000e-02 1.0\n",
      "\n",
      "DONE with experiment num: 16   params: 0.1 35.0 200.0 1.000000e-02 1.0\n",
      "idx_this_experiment: 16\n",
      "found new experiment with params: 1.0 35.0 73.3333333333333 1.000000e-02 1.0\n",
      "\n",
      "DONE with experiment num: 17   params: 1.0 35.0 73.3333333333333 1.000000e-02 1.0\n",
      "idx_this_experiment: 16\n",
      "found new experiment with params: 0.1 45.0 200.0 2.000000e-02 1.0\n",
      "\n",
      "DONE with experiment num: 18   params: 0.1 45.0 200.0 2.000000e-02 1.0\n",
      "idx_this_experiment: 16\n",
      "found new experiment with params: 5.0 15.0 200.0 1.000000e-02 10.0\n",
      "\n",
      "DONE with experiment num: 19   params: 5.0 15.0 200.0 1.000000e-02 10.0\n",
      "idx_this_experiment: 16\n",
      "found new experiment with params: 5.0 25.0 200.0 3.000000e-02 10.0\n",
      "\n",
      "DONE with experiment num: 20   params: 5.0 25.0 200.0 3.000000e-02 10.0\n",
      "idx_this_experiment: 16\n",
      "found new experiment with params: 5.0 45.0 200.0 1.000000e-02 0.0777777777777778\n",
      "\n",
      "DONE with experiment num: 21   params: 5.0 45.0 200.0 1.000000e-02 0.0777777777777778\n",
      "idx_this_experiment: 16\n",
      "found new experiment with params: 5.0 45.0 10.0 3.000000e-02 10.0\n",
      "\n",
      "DONE with experiment num: 22   params: 5.0 45.0 10.0 3.000000e-02 10.0\n",
      "idx_this_experiment: 16\n",
      "found new experiment with params: 2.55 45.0 200.0 1.000000e-02 0.233333333333333\n",
      "\n",
      "DONE with experiment num: 23   params: 2.55 45.0 200.0 1.000000e-02 0.233333333333333\n",
      "idx_this_experiment: 16\n",
      "found new experiment with params: 1.0 35.0 200.0 4.000000e-02 20.0\n",
      "\n",
      "DONE with experiment num: 24   params: 1.0 35.0 200.0 4.000000e-02 20.0\n",
      "idx_this_experiment: 16\n",
      "found new experiment with params: 5.0 45.0 157.777777777778 2.000000e-02 0.6222222222222222\n",
      "\n",
      "DONE with experiment num: 25   params: 5.0 45.0 157.777777777778 2.000000e-02 0.6222222222222222\n",
      "idx_this_experiment: 16\n",
      "found new experiment with params: 2.5500000000000003 45.0 157.777777777778 1.000000e-02 0.1555555555555555\n",
      "\n",
      "DONE with experiment num: 26   params: 2.5500000000000003 45.0 157.777777777778 1.000000e-02 0.1555555555555555\n",
      "idx_this_experiment: 16\n",
      "found new experiment with params: 0.1 25.0 200.0 1.000000e-02 0.233333333333333\n",
      "\n",
      "DONE with experiment num: 27   params: 0.1 25.0 200.0 1.000000e-02 0.233333333333333\n",
      "idx_this_experiment: 16\n",
      "found new experiment with params: 1.3250000000000002 35.0 200.0 3.000000e-02 10.0\n",
      "\n",
      "DONE with experiment num: 28   params: 1.3250000000000002 35.0 200.0 3.000000e-02 10.0\n",
      "idx_this_experiment: 16\n",
      "found new experiment with params: 0.1 35.0 200.0 1.000000e-02 1.0\n",
      "\n",
      "DONE with experiment num: 29   params: 0.1 35.0 200.0 1.000000e-02 1.0\n",
      "idx_this_experiment: 16\n",
      "found new experiment with params: 1.325 15.0 31.11111111111111 1.000000e-02 1.0\n",
      "\n",
      "DONE with experiment num: 30   params: 1.325 15.0 31.11111111111111 1.000000e-02 1.0\n",
      "idx_this_experiment: 16\n",
      "found new experiment with params: 5.0 25.0 10.0 1.000000e-02 0.0\n",
      "\n",
      "DONE with experiment num: 31   params: 5.0 25.0 10.0 1.000000e-02 0.0\n",
      "idx_this_experiment: 16\n",
      "found new experiment with params: 5.0 25.0 200.0 4.000000e-02 0.233333333333333\n",
      "\n",
      "DONE with experiment num: 32   params: 5.0 25.0 200.0 4.000000e-02 0.233333333333333\n",
      "idx_this_experiment: 16\n",
      "found new experiment with params: 5.0 15.0 178.88888888888889 4.000000e-02 30.0\n",
      "\n",
      "DONE with experiment num: 33   params: 5.0 15.0 178.88888888888889 4.000000e-02 30.0\n",
      "idx_this_experiment: 16\n",
      "found new experiment with params: 5.0 25.0 200.0 5.000000e-02 30.0\n",
      "\n",
      "DONE with experiment num: 34   params: 5.0 25.0 200.0 5.000000e-02 30.0\n",
      "idx_this_experiment: 16\n",
      "found new experiment with params: 1.325 45.0 200.0 2.000000e-02 0.0777777777777777\n",
      "\n",
      "DONE with experiment num: 35   params: 1.325 45.0 200.0 2.000000e-02 0.0777777777777777\n",
      "idx_this_experiment: 16\n",
      "found new experiment with params: 0.1 15.0 157.777777777778 1.000000e-02 0.233333333333333\n",
      "\n",
      "DONE with experiment num: 36   params: 0.1 15.0 157.777777777778 1.000000e-02 0.233333333333333\n",
      "idx_this_experiment: 16\n",
      "found new experiment with params: 5.0 25.0 200.0 1.000000e-02 0.1555555555555555\n",
      "\n",
      "DONE with experiment num: 37   params: 5.0 25.0 200.0 1.000000e-02 0.1555555555555555\n",
      "idx_this_experiment: 16\n",
      "found new experiment with params: 5.0 15.0 31.11111111111111 3.000000e-02 30.0\n",
      "\n",
      "DONE with experiment num: 38   params: 5.0 15.0 31.11111111111111 3.000000e-02 30.0\n",
      "idx_this_experiment: 16\n",
      "found new experiment with params: 5.0 35.0 200.0 2.000000e-02 0.5444444444444445\n",
      "\n",
      "DONE with experiment num: 39   params: 5.0 35.0 200.0 2.000000e-02 0.5444444444444445\n",
      "idx_this_experiment: 16\n",
      "found new experiment with params: 1.325 25.0 157.777777777778 4.000000e-02 20.0\n",
      "\n",
      "DONE with experiment num: 40   params: 1.325 25.0 157.777777777778 4.000000e-02 20.0\n",
      "idx_this_experiment: 16\n",
      "found new experiment with params: 5.0 25.0 200.0 2.000000e-02 0.5444444444444445\n",
      "\n",
      "DONE with experiment num: 41   params: 5.0 25.0 200.0 2.000000e-02 0.5444444444444445\n",
      "idx_this_experiment: 16\n",
      "found new experiment with params: 5.0 45.0 157.77777777777777 1.000000e-02 10.0\n",
      "\n",
      "DONE with experiment num: 42   params: 5.0 45.0 157.77777777777777 1.000000e-02 10.0\n",
      "idx_this_experiment: 16\n",
      "found new experiment with params: 5.0 15.0 178.88888888888889 2.000000e-02 10.0\n",
      "\n",
      "DONE with experiment num: 43   params: 5.0 15.0 178.88888888888889 2.000000e-02 10.0\n",
      "idx_this_experiment: 16\n",
      "found new experiment with params: 2.5500000000000003 45.0 200.0 5.000000e-02 30.0\n",
      "\n",
      "DONE with experiment num: 44   params: 2.5500000000000003 45.0 200.0 5.000000e-02 30.0\n",
      "idx_this_experiment: 16\n",
      "found new experiment with params: 1.3250000000000002 45.0 200.0 5.000000e-02 1.0\n",
      "\n",
      "DONE with experiment num: 45   params: 1.3250000000000002 45.0 200.0 5.000000e-02 1.0\n",
      "idx_this_experiment: 16\n",
      "found new experiment with params: 1.325 45.0 73.33333333333333 4.000000e-02 20.0\n",
      "\n",
      "DONE with experiment num: 46   params: 1.325 45.0 73.33333333333333 4.000000e-02 20.0\n",
      "idx_this_experiment: 16\n",
      "found new experiment with params: 5.0 45.0 52.22222222222222 1.000000e-02 10.0\n"
     ]
    }
   ],
   "source": [
    "previous = \"\"\n",
    "num_experiments = 0\n",
    "idx_this_experiment = 0\n",
    "for x in full_group_name:\n",
    "    x = x[0][0]\n",
    "    x = x.split(\" \")\n",
    "    x = \" \".join(x[2:])\n",
    "    #print(x)\n",
    "    if x == previous:\n",
    "        idx_this_experiment += 1\n",
    "    else:\n",
    "        print(\"\")\n",
    "        print(\"DONE with experiment num: {}   params: {}\".format(num_experiments, previous))\n",
    "        print(\"idx_this_experiment: {}\".format(idx_this_experiment))\n",
    "        print(\"found new experiment with params: {}\".format(x))\n",
    "        num_experiments += 1\n",
    "        previous = x\n",
    "        idx_this_experiment = 0"
   ],
   "metadata": {
    "collapsed": false,
    "ExecuteTime": {
     "end_time": "2024-10-23T19:02:34.917492Z",
     "start_time": "2024-10-23T19:02:34.905989Z"
    }
   },
   "id": "760438860929e129",
   "execution_count": 33
  },
  {
   "cell_type": "code",
   "outputs": [],
   "source": [
    "previous = \"\"\n",
    "num_experiments = 0\n",
    "idx_this_experiment = 0\n",
    "\n",
    "for x in full_group_name:\n",
    "    x = x[0][0]\n",
    "    x = x.split(\" \")\n",
    "    x = \" \".join(x[2:])\n",
    "    #print(x)\n",
    "    if x == previous:\n",
    "        idx_this_experiment += 1\n",
    "    else:\n",
    "        print(\"\")\n",
    "        print(\"DONE with experiment num: {}   params: {}\".format(num_experiments, previous))\n",
    "        print(\"idx_this_experiment: {}\".format(idx_this_experiment))\n",
    "        print(\"found new experiment with params: {}\".format(x))\n",
    "        num_experiments += 1\n",
    "        previous = x\n",
    "        idx_this_experiment = 0"
   ],
   "metadata": {
    "collapsed": false
   },
   "id": "40ee0aa1875edc64"
  }
 ],
 "metadata": {
  "kernelspec": {
   "display_name": "Python 3",
   "language": "python",
   "name": "python3"
  },
  "language_info": {
   "codemirror_mode": {
    "name": "ipython",
    "version": 2
   },
   "file_extension": ".py",
   "mimetype": "text/x-python",
   "name": "python",
   "nbconvert_exporter": "python",
   "pygments_lexer": "ipython2",
   "version": "2.7.6"
  }
 },
 "nbformat": 4,
 "nbformat_minor": 5
}
